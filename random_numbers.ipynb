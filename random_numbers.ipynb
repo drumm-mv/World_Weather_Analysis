{
 "cells": [
  {
   "cell_type": "code",
   "execution_count": 1,
   "id": "9043a02e",
   "metadata": {},
   "outputs": [],
   "source": [
    "# Import the random module\n",
    "import random\n"
   ]
  },
  {
   "cell_type": "code",
   "execution_count": 2,
   "id": "c3001328",
   "metadata": {},
   "outputs": [
    {
     "data": {
      "text/plain": [
       "-37"
      ]
     },
     "execution_count": 2,
     "metadata": {},
     "output_type": "execute_result"
    }
   ],
   "source": [
    "random.randint(-90, 90)"
   ]
  },
  {
   "cell_type": "code",
   "execution_count": 3,
   "id": "5c3cff1b",
   "metadata": {},
   "outputs": [
    {
     "data": {
      "text/plain": [
       "0.22683527523604052"
      ]
     },
     "execution_count": 3,
     "metadata": {},
     "output_type": "execute_result"
    }
   ],
   "source": [
    "random.random()"
   ]
  },
  {
   "cell_type": "code",
   "execution_count": 4,
   "id": "43394dc6",
   "metadata": {},
   "outputs": [
    {
     "name": "stdout",
     "output_type": "stream",
     "text": [
      "[34.457951721338056, 42.79469468701825, -88.83380303262375, 74.00132218412647, -89.27048111513452, 30.922238433242153, -48.58881186399954, -73.53777080600008, 74.82552093315421, -16.369812685024595]\n"
     ]
    }
   ],
   "source": [
    "# randint() and random() combined to create random latitudes between -89.99999 and 89.99999\n",
    "x = 1\n",
    "latitudes = []\n",
    "while x < 11:\n",
    "    random_lat = random.randint(-90, 89) + random.random()\n",
    "    latitudes.append(random_lat)\n",
    "    x += 1\n",
    "    \n",
    "print(latitudes)"
   ]
  },
  {
   "cell_type": "code",
   "execution_count": 5,
   "id": "0a037fc5",
   "metadata": {},
   "outputs": [
    {
     "data": {
      "text/plain": [
       "60"
      ]
     },
     "execution_count": 5,
     "metadata": {},
     "output_type": "execute_result"
    }
   ],
   "source": [
    "random.randrange(-90, 90, step=1)"
   ]
  },
  {
   "cell_type": "code",
   "execution_count": 6,
   "id": "679e35d8",
   "metadata": {},
   "outputs": [
    {
     "data": {
      "text/plain": [
       "-36"
      ]
     },
     "execution_count": 6,
     "metadata": {},
     "output_type": "execute_result"
    }
   ],
   "source": [
    "random.randrange(-90, 90, step=3)"
   ]
  },
  {
   "cell_type": "code",
   "execution_count": 7,
   "id": "17d50dda",
   "metadata": {},
   "outputs": [
    {
     "data": {
      "text/plain": [
       "-76.74053784403293"
      ]
     },
     "execution_count": 7,
     "metadata": {},
     "output_type": "execute_result"
    }
   ],
   "source": [
    "random.uniform(-90, 90)"
   ]
  },
  {
   "cell_type": "code",
   "execution_count": 8,
   "id": "aab4a4b5",
   "metadata": {},
   "outputs": [],
   "source": [
    "# Import the NumPy module\n",
    "import numpy as np"
   ]
  },
  {
   "cell_type": "code",
   "execution_count": 10,
   "id": "1496d13e",
   "metadata": {},
   "outputs": [
    {
     "data": {
      "text/plain": [
       "18.065909563134795"
      ]
     },
     "execution_count": 10,
     "metadata": {},
     "output_type": "execute_result"
    }
   ],
   "source": [
    "np.random.uniform(-90.000, 90.000)"
   ]
  },
  {
   "cell_type": "code",
   "execution_count": 11,
   "id": "174c9a67",
   "metadata": {},
   "outputs": [
    {
     "data": {
      "text/plain": [
       "array([ 62.78594385,  -3.31140665,  -5.78697211,  66.05522154,\n",
       "       -21.08105173, -24.44012332,  33.56186695,  71.61318891,\n",
       "        58.33634546,  66.99860028,  45.85591437, -33.17826362,\n",
       "       -30.63590606, -87.70979037, -32.13978031,  59.21768607,\n",
       "        11.13112263,   6.65028594, -88.2615194 , -51.15206302,\n",
       "       -18.21268654,  59.35223416,  63.40299575,  29.14465777,\n",
       "       -83.13552099,  63.74825233,  35.50394451,  88.46578428,\n",
       "        12.36909765,  31.95888501, -60.05261861, -20.87257907,\n",
       "       -86.35341309,  65.74770318, -63.26318009,  11.03785586,\n",
       "       -26.73481005, -44.32515831,  42.78941417, -46.06891433,\n",
       "        83.1019858 ,  57.01096271,  20.63115203, -45.31418927,\n",
       "        44.28124312, -69.81124897,   1.22117365,  -0.78540506,\n",
       "       -84.29965317,  79.9294982 ])"
      ]
     },
     "execution_count": 11,
     "metadata": {},
     "output_type": "execute_result"
    }
   ],
   "source": [
    "np.random.uniform(-90.000, 90.000, size=50)"
   ]
  },
  {
   "cell_type": "code",
   "execution_count": 12,
   "id": "d7350440",
   "metadata": {},
   "outputs": [],
   "source": [
    "# Import timeit.\n",
    "import timeit"
   ]
  },
  {
   "cell_type": "code",
   "execution_count": 14,
   "id": "b86c080e",
   "metadata": {},
   "outputs": [
    {
     "name": "stdout",
     "output_type": "stream",
     "text": [
      "14.3 µs ± 375 ns per loop (mean ± std. dev. of 7 runs, 100000 loops each)\n"
     ]
    }
   ],
   "source": [
    "%timeit np.random.uniform(-90.000, 90.000, size=1500)"
   ]
  },
  {
   "cell_type": "code",
   "execution_count": 15,
   "id": "ab229fb6",
   "metadata": {},
   "outputs": [
    {
     "name": "stdout",
     "output_type": "stream",
     "text": [
      "1.82 ms ± 110 µs per loop (mean ± std. dev. of 7 runs, 1000 loops each)\n"
     ]
    }
   ],
   "source": [
    "def latitudes(size):\n",
    "    latitudes = []\n",
    "    x = 0\n",
    "    while x < (size):\n",
    "        random_lat = random.randint(-90, 90) + random.random()\n",
    "        latitudes.append(random_lat)\n",
    "        x += 1\n",
    "    return latitudes\n",
    "# Call the function with 1500.\n",
    "%timeit latitudes(1500)"
   ]
  },
  {
   "cell_type": "code",
   "execution_count": null,
   "id": "73271f8f",
   "metadata": {},
   "outputs": [],
   "source": []
  }
 ],
 "metadata": {
  "kernelspec": {
   "display_name": "PythonData",
   "language": "python",
   "name": "pythondata"
  },
  "language_info": {
   "codemirror_mode": {
    "name": "ipython",
    "version": 3
   },
   "file_extension": ".py",
   "mimetype": "text/x-python",
   "name": "python",
   "nbconvert_exporter": "python",
   "pygments_lexer": "ipython3",
   "version": "3.7.13"
  }
 },
 "nbformat": 4,
 "nbformat_minor": 5
}
